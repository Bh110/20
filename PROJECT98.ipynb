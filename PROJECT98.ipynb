{
  "nbformat": 4,
  "nbformat_minor": 0,
  "metadata": {
    "colab": {
      "provenance": [],
      "authorship_tag": "ABX9TyOgqNSCmCd9Z1tBy7elaCao",
      "include_colab_link": true
    },
    "kernelspec": {
      "name": "python3",
      "display_name": "Python 3"
    },
    "language_info": {
      "name": "python"
    }
  },
  "cells": [
    {
      "cell_type": "markdown",
      "metadata": {
        "id": "view-in-github",
        "colab_type": "text"
      },
      "source": [
        "<a href=\"https://colab.research.google.com/github/Bh110/20/blob/main/PROJECT98.ipynb\" target=\"_parent\"><img src=\"https://colab.research.google.com/assets/colab-badge.svg\" alt=\"Open In Colab\"/></a>"
      ]
    },
    {
      "cell_type": "markdown",
      "source": [
        "TO PRINT ALL NUMBERS IN A GIVEN RANGE DIVISIBLE BY A GIVEN NUMBER"
      ],
      "metadata": {
        "id": "LCK1xRpDp9Sq"
      }
    },
    {
      "cell_type": "code",
      "source": [
        "LL=int(input(\"Enter lower range limit:\"))\n",
        "UL=int(input(\"Enter upper range limit:\"))\n",
        "NUM=int(input(\"Enter the number to be divided by:\"))\n",
        "for i in range (LL,UL+1):\n",
        "  if(i% NUM==0):\n",
        "   print(i)"
      ],
      "metadata": {
        "colab": {
          "base_uri": "https://localhost:8080/"
        },
        "id": "2QeiWPNLqJLV",
        "outputId": "0d379121-277b-4020-f51a-054239ede6df"
      },
      "execution_count": 5,
      "outputs": [
        {
          "output_type": "stream",
          "name": "stdout",
          "text": [
            "Enter lower range limit:8\n",
            "Enter upper range limit:22\n",
            "Enter the number to be divided by:5\n",
            "10\n",
            "15\n",
            "20\n"
          ]
        }
      ]
    }
  ]
}