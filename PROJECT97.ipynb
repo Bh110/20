{
  "nbformat": 4,
  "nbformat_minor": 0,
  "metadata": {
    "colab": {
      "provenance": [],
      "authorship_tag": "ABX9TyNql9sn5CJ1NXQ4B2lkF/cI",
      "include_colab_link": true
    },
    "kernelspec": {
      "name": "python3",
      "display_name": "Python 3"
    },
    "language_info": {
      "name": "python"
    }
  },
  "cells": [
    {
      "cell_type": "markdown",
      "metadata": {
        "id": "view-in-github",
        "colab_type": "text"
      },
      "source": [
        "<a href=\"https://colab.research.google.com/github/Bh110/20/blob/main/PROJECT97.ipynb\" target=\"_parent\"><img src=\"https://colab.research.google.com/assets/colab-badge.svg\" alt=\"Open In Colab\"/></a>"
      ]
    },
    {
      "cell_type": "markdown",
      "source": [
        "CHECKING IF A GIVEN YEAR IS A LEAP YEAR."
      ],
      "metadata": {
        "id": "DQRhg6EqfTaH"
      }
    },
    {
      "cell_type": "code",
      "source": [
        "yr=int(input(\"Enter a year:\"))\n",
        "if(yr% 4 ==0 and yr% 100!=0 or yr% 400==0):\n",
        "  print(\"The given year is a leap year.\")\n",
        "else:\n",
        "    print( \"The given year is not a leap year.\")"
      ],
      "metadata": {
        "colab": {
          "base_uri": "https://localhost:8080/"
        },
        "id": "W9GEe_T1femu",
        "outputId": "2d32b6a9-bbfc-46b2-ba2c-85fbcd33893a"
      },
      "execution_count": 2,
      "outputs": [
        {
          "output_type": "stream",
          "name": "stdout",
          "text": [
            "Enter a year:2054\n",
            "The given year is not a leap year.\n"
          ]
        }
      ]
    },
    {
      "cell_type": "markdown",
      "source": [
        "CONVERTING HEIGHT IN CENTIMETERS AND THEN CONVERTING THE HEIGHT TO FEET AND INCHES\n",
        "\n"
      ],
      "metadata": {
        "id": "As0y2VaSgho-"
      }
    },
    {
      "cell_type": "code",
      "source": [
        "cm=int(input(\"Enter a height:\"))\n",
        "inches=cm*0.394 \n",
        "feet=cm*0.328\n",
        "print((\"The length in inches\",round(inches,2)))\n",
        "print((\"The length in feet\",round(feet,2)))"
      ],
      "metadata": {
        "colab": {
          "base_uri": "https://localhost:8080/"
        },
        "id": "AVJ_itKionvj",
        "outputId": "9c451c6f-7d65-45ba-9db0-d2ab54feb53e"
      },
      "execution_count": 5,
      "outputs": [
        {
          "output_type": "stream",
          "name": "stdout",
          "text": [
            "Enter a height:157\n",
            "('The length in inches', 61.86)\n",
            "('The length in feet', 51.5)\n"
          ]
        }
      ]
    }
  ]
}