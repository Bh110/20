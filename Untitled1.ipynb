{
  "nbformat": 4,
  "nbformat_minor": 0,
  "metadata": {
    "colab": {
      "provenance": [],
      "authorship_tag": "ABX9TyM2iqcgPI6cQtOCIcP6ijmt",
      "include_colab_link": true
    },
    "kernelspec": {
      "name": "python3",
      "display_name": "Python 3"
    },
    "language_info": {
      "name": "python"
    }
  },
  "cells": [
    {
      "cell_type": "markdown",
      "metadata": {
        "id": "view-in-github",
        "colab_type": "text"
      },
      "source": [
        "<a href=\"https://colab.research.google.com/github/Bh110/20/blob/main/Untitled1.ipynb\" target=\"_parent\"><img src=\"https://colab.research.google.com/assets/colab-badge.svg\" alt=\"Open In Colab\"/></a>"
      ]
    },
    {
      "cell_type": "markdown",
      "source": [
        "Check if a year is leap year or not."
      ],
      "metadata": {
        "id": "kawp6khvHAN6"
      }
    },
    {
      "cell_type": "code",
      "execution_count": 6,
      "metadata": {
        "colab": {
          "base_uri": "https://localhost:8080/"
        },
        "id": "CudPlYRVFf5v",
        "outputId": "8390d9f7-2365-4a81-f864-b8a229fcfaf6"
      },
      "outputs": [
        {
          "output_type": "stream",
          "name": "stdout",
          "text": [
            "Enter a year :4512\n",
            "The given year is a leap year\n"
          ]
        }
      ],
      "source": [
        "a=int(input(\"Enter a year :\"))\n",
        "if(a % 4 == 0 and a % 100!=0 or a % 400==0 ):\n",
        "  print(\"The given year is a leap year\")\n",
        "else:\n",
        "  print(\"The given year is not a leap year\")\n",
        "\n"
      ]
    },
    {
      "cell_type": "markdown",
      "source": [
        "Convert centimeters to inch and feet."
      ],
      "metadata": {
        "id": "zlhWcRHsMsne"
      }
    },
    {
      "cell_type": "code",
      "source": [
        "h=int(input(\"Enter the height in centimeters:\"))\n",
        "inch=h*0.393701\n",
        "feet=h*0.0328084\n",
        "print(\"The length in inches:\",inch)\n",
        "print(\"the length in feet:\",feet)"
      ],
      "metadata": {
        "colab": {
          "base_uri": "https://localhost:8080/"
        },
        "id": "cbNeEB3AGlz-",
        "outputId": "90f2a52f-b487-4215-b4e0-2716761b7ae5"
      },
      "execution_count": 8,
      "outputs": [
        {
          "output_type": "stream",
          "name": "stdout",
          "text": [
            "Enter the height in centimeters:54\n",
            "The length in inches: 21.259854\n",
            "the length in feet: 1.7716536\n"
          ]
        }
      ]
    },
    {
      "cell_type": "code",
      "source": [
        "upperR=int(input(\"Enter the upper range:\"))\n",
        "lowerR=int(input(\"Enter the lower range:\"))\n",
        "divide=int(input(\"Enter the number to be divided by:\"))\n",
        "for i in range (lowerR,upperR+1):\n",
        "  if(i%divide==0):\n",
        "    print(i)\n"
      ],
      "metadata": {
        "colab": {
          "base_uri": "https://localhost:8080/"
        },
        "id": "DGFbDlZXNURq",
        "outputId": "cd36e6b9-5797-44cc-bd8f-0b75e7cff834"
      },
      "execution_count": 20,
      "outputs": [
        {
          "output_type": "stream",
          "name": "stdout",
          "text": [
            "Enter the upper range:30\n",
            "Enter the lower range:3\n",
            "Enter the number to be divided by:4\n",
            "4\n",
            "8\n",
            "12\n",
            "16\n",
            "20\n",
            "24\n",
            "28\n"
          ]
        }
      ]
    }
  ]
}