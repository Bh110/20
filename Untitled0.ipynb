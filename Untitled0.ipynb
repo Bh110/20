{
  "nbformat": 4,
  "nbformat_minor": 0,
  "metadata": {
    "colab": {
      "provenance": [],
      "authorship_tag": "ABX9TyPuUKx1m4qYfRS0bHIu6M18",
      "include_colab_link": true
    },
    "kernelspec": {
      "name": "python3",
      "display_name": "Python 3"
    },
    "language_info": {
      "name": "python"
    }
  },
  "cells": [
    {
      "cell_type": "markdown",
      "metadata": {
        "id": "view-in-github",
        "colab_type": "text"
      },
      "source": [
        "<a href=\"https://colab.research.google.com/github/Bh110/20/blob/main/Untitled0.ipynb\" target=\"_parent\"><img src=\"https://colab.research.google.com/assets/colab-badge.svg\" alt=\"Open In Colab\"/></a>"
      ]
    },
    {
      "cell_type": "code",
      "execution_count": 42,
      "metadata": {
        "colab": {
          "base_uri": "https://localhost:8080/"
        },
        "id": "50bNTFPN6dkg",
        "outputId": "7a1cd422-74ee-44e9-9868-ad8039b8ed34"
      },
      "outputs": [
        {
          "output_type": "stream",
          "name": "stdout",
          "text": [
            "6 5 4 3 2 1 \n",
            "6 5 4 3 2 \n",
            "6 5 4 3 \n",
            "6 5 4 \n",
            "6 5 \n",
            "6 \n"
          ]
        }
      ],
      "source": [
        "\n",
        "for i in range (0,num):\n",
        "  for j in range(num,i,-1):\n",
        "        print(j,end=\" \")\n",
        "  print()"
      ]
    },
    {
      "cell_type": "markdown",
      "source": [
        "Syntax 1 : for repetition_var_1 in sequence: \n",
        "for repetition_var_2 in sequence:\n",
        " statement 1\n",
        "  statement 2 \n",
        " .....\n",
        "  ..... ..... \n",
        "  statement 10 \n"
      ],
      "metadata": {
        "id": "H-2-yVn2D-js"
      }
    },
    {
      "cell_type": "markdown",
      "source": [
        "Keywords: \n",
        "for : the \"for\" keyoword is used to mark the begining of the for loop \n",
        "in : Variables:\n",
        " repetition_var :\n",
        "  sequence "
      ],
      "metadata": {
        "id": "6IJb01D8EXew"
      }
    },
    {
      "cell_type": "markdown",
      "source": [
        "Syntax 2 : for repetition_var_1 in range(start_val, end_val,steps): \n",
        "for repetition_var_2 in range(start_val, end_val,steps): \n",
        "statement 1 \n",
        "statement 2 \n",
        ".....\n",
        " ..... \n",
        " .....\n",
        " statement 10"
      ],
      "metadata": {
        "id": "5S1hL-uoETE6"
      }
    },
    {
      "cell_type": "code",
      "source": [
        "num=int(input(\"Enter the no. of rows:\"))"
      ],
      "metadata": {
        "colab": {
          "base_uri": "https://localhost:8080/"
        },
        "id": "pem_UgoPAOcH",
        "outputId": "48297538-f329-45f9-da66-fc188a86447d"
      },
      "execution_count": 35,
      "outputs": [
        {
          "name": "stdout",
          "output_type": "stream",
          "text": [
            "Enter the no. of rows:6\n"
          ]
        }
      ]
    },
    {
      "cell_type": "code",
      "source": [
        "for i in range (0,num):\n",
        "  for j in range(num,i,-1):\n",
        "        print(\"*\",end=\" \")\n",
        "  print()"
      ],
      "metadata": {
        "colab": {
          "base_uri": "https://localhost:8080/"
        },
        "id": "ORmmpveZCor9",
        "outputId": "199f19fb-1a5c-4022-b9e2-ab666b0f9f15"
      },
      "execution_count": 43,
      "outputs": [
        {
          "output_type": "stream",
          "name": "stdout",
          "text": [
            "* * * * * * \n",
            "* * * * * \n",
            "* * * * \n",
            "* * * \n",
            "* * \n",
            "* \n"
          ]
        }
      ]
    },
    {
      "cell_type": "code",
      "source": [
        "for i in range (0,num):\n",
        "  for j in range(0,i+1):\n",
        "        print(j,end=\" \")\n",
        "  print()"
      ],
      "metadata": {
        "colab": {
          "base_uri": "https://localhost:8080/"
        },
        "id": "X--f68A1Cthz",
        "outputId": "9f08590c-4501-44ca-f3e5-094863102249"
      },
      "execution_count": 44,
      "outputs": [
        {
          "output_type": "stream",
          "name": "stdout",
          "text": [
            "0 \n",
            "0 1 \n",
            "0 1 2 \n",
            "0 1 2 3 \n",
            "0 1 2 3 4 \n",
            "0 1 2 3 4 5 \n"
          ]
        }
      ]
    },
    {
      "cell_type": "code",
      "source": [
        "for i in range (0,num):\n",
        "  for j in range(0,i+1):\n",
        "        print(\"*\",end=\" \")\n",
        "  print()"
      ],
      "metadata": {
        "colab": {
          "base_uri": "https://localhost:8080/"
        },
        "id": "Cs_2dHMKCzbT",
        "outputId": "f6a85c67-2bc4-400a-f911-11f19c138f50"
      },
      "execution_count": 45,
      "outputs": [
        {
          "output_type": "stream",
          "name": "stdout",
          "text": [
            "* \n",
            "* * \n",
            "* * * \n",
            "* * * * \n",
            "* * * * * \n",
            "* * * * * * \n"
          ]
        }
      ]
    }
  ]
}